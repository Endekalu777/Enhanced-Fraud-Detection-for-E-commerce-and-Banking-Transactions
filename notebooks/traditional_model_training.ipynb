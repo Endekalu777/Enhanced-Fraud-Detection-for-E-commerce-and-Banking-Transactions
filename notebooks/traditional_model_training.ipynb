{
 "cells": [
  {
   "cell_type": "code",
   "execution_count": 1,
   "metadata": {},
   "outputs": [],
   "source": [
    "import sys\n",
    "import os\n",
    "sys.path.append(os.path.abspath(os.path.join('..')))"
   ]
  },
  {
   "cell_type": "code",
   "execution_count": 2,
   "metadata": {},
   "outputs": [],
   "source": [
    "from scripts.traditional_model_training import *"
   ]
  },
  {
   "cell_type": "code",
   "execution_count": 3,
   "metadata": {},
   "outputs": [],
   "source": [
    "credit_path = '../data/cleaned_creditcard.csv'\n",
    "fraud_data = '../data/cleaned_merged_fraud.csv'\n",
    "analysis = ModelTraining(credit_path, fraud_data)"
   ]
  },
  {
   "cell_type": "code",
   "execution_count": 4,
   "metadata": {},
   "outputs": [],
   "source": [
    "analysis.data_preparation()"
   ]
  },
  {
   "cell_type": "code",
   "execution_count": 5,
   "metadata": {},
   "outputs": [
    {
     "name": "stdout",
     "output_type": "stream",
     "text": [
      "Training models on Credit Card dataset...\n",
      "Training Logistic Regression with GridSearchCV...\n",
      "Logistic Regression Best Accuracy on Credit Card Dataset: 0.9993 with parameters {'C': 10, 'solver': 'liblinear'}\n",
      "Training Decision Tree with GridSearchCV...\n",
      "Decision Tree Best Accuracy on Credit Card Dataset: 0.9995 with parameters {'max_depth': 5, 'min_samples_split': 5}\n",
      "Training Random Forest with GridSearchCV...\n",
      "Random Forest Best Accuracy on Credit Card Dataset: 0.9996 with parameters {'max_depth': 15, 'n_estimators': 200}\n"
     ]
    }
   ],
   "source": [
    "analysis.train_creditcard_models()"
   ]
  }
 ],
 "metadata": {
  "kernelspec": {
   "display_name": "week8-9",
   "language": "python",
   "name": "python3"
  },
  "language_info": {
   "codemirror_mode": {
    "name": "ipython",
    "version": 3
   },
   "file_extension": ".py",
   "mimetype": "text/x-python",
   "name": "python",
   "nbconvert_exporter": "python",
   "pygments_lexer": "ipython3",
   "version": "3.12.4"
  }
 },
 "nbformat": 4,
 "nbformat_minor": 2
}
